{
 "cells": [
  {
   "cell_type": "code",
   "execution_count": null,
   "id": "23f2d43a-6b0e-4707-bb5c-319fda81a3b9",
   "metadata": {},
   "outputs": [],
   "source": []
  }
 ],
 "metadata": {
  "kernelspec": {
   "display_name": "",
   "name": ""
  },
  "language_info": {
   "name": ""
  }
 },
 "nbformat": 4,
 "nbformat_minor": 5
}
